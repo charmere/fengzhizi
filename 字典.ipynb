{
 "cells": [
  {
   "cell_type": "code",
   "execution_count": 10,
   "metadata": {},
   "outputs": [
    {
     "name": "stdout",
     "output_type": "stream",
     "text": [
      "{'color': 'green', 'points': 5}\n"
     ]
    }
   ],
   "source": [
    "#输出一个字典，输出字典\n",
    "alien_0 = {\"color\":\"green\",\"points\":5}\n",
    "\n",
    "print(alien_0)"
   ]
  },
  {
   "cell_type": "code",
   "execution_count": 2,
   "metadata": {},
   "outputs": [
    {
     "name": "stdout",
     "output_type": "stream",
     "text": [
      "机器人的颜色：green\n",
      "机器人的点数：5\n"
     ]
    }
   ],
   "source": [
    "#创建一个字典一个一个输出他的值\n",
    "alien_0 = {\"color\":\"green\",\"points\":5}#5  是数字\n",
    "\n",
    "print(\"机器人的颜色：\" + alien_0['color'])\n",
    "print('机器人的点数：' + str(alien_0[\"points\"]))"
   ]
  },
  {
   "cell_type": "code",
   "execution_count": 8,
   "metadata": {
    "scrolled": true
   },
   "outputs": [
    {
     "name": "stdout",
     "output_type": "stream",
     "text": [
      "{'color': 'green', 'points': 5, 'x_position': 0, 'y_position': 0}\n"
     ]
    }
   ],
   "source": [
    "#添加\n",
    "alien_0 = {\"color\":\"green\",\"points\":5}\n",
    "\n",
    "alien_0[\"x_position\"] = 0\n",
    "alien_0[\"y_position\"] = 0\n",
    "print(alien_0)"
   ]
  },
  {
   "cell_type": "code",
   "execution_count": 12,
   "metadata": {},
   "outputs": [
    {
     "name": "stdout",
     "output_type": "stream",
     "text": [
      "{'color': 'black', 'points': 5}\n"
     ]
    }
   ],
   "source": [
    "#创建一个空字典，往里面添加 键-值 对\n",
    "alien_0 = {}\n",
    "alien_0[\"color\"] = \"black\"\n",
    "alien_0[\"points\"] = 5\n",
    "print(alien_0)"
   ]
  },
  {
   "cell_type": "code",
   "execution_count": 14,
   "metadata": {},
   "outputs": [
    {
     "name": "stdout",
     "output_type": "stream",
     "text": [
      "外星人的颜色是：black\n"
     ]
    }
   ],
   "source": [
    "#修改字典中的值\n",
    "alien_0 = {\"color\":\"green\",\"points\":5}\n",
    "\n",
    "alien_0[\"color\"] = \"black\"#修改值\n",
    "\n",
    "print('外星人的颜色是：' + alien_0[\"color\"])"
   ]
  },
  {
   "cell_type": "code",
   "execution_count": 17,
   "metadata": {},
   "outputs": [
    {
     "name": "stdout",
     "output_type": "stream",
     "text": [
      "{'points': 5}\n"
     ]
    }
   ],
   "source": [
    "#删除 键-值 对\n",
    "alien_0 = {\"color\":\"green\",\"points\":5}\n",
    "\n",
    "del alien_0[\"color\"]#删除 键-值 对\n",
    "\n",
    "print(alien_0)"
   ]
  },
  {
   "cell_type": "code",
   "execution_count": 4,
   "metadata": {},
   "outputs": [
    {
     "name": "stdout",
     "output_type": "stream",
     "text": [
      "python\n",
      "\n",
      "{'jen': 'python', 'sarah': 'c', 'edward': 'ruby', 'phil': 'python'}\n"
     ]
    }
   ],
   "source": [
    "#由类似对象组成的字典，相比于一行的字典，看起来更加美观\n",
    "favorite_languages = {\n",
    "    \"jen\": \"python\",\n",
    "    \"sarah\":\"c\",\n",
    "    \"edward\":\"ruby\",\n",
    "    \"phil\":\"python\"\n",
    "    }\n",
    "print(favorite_languages[\"jen\"] + \"\\n\")\n",
    "\n",
    "print(favorite_languages)"
   ]
  },
  {
   "cell_type": "code",
   "execution_count": 6,
   "metadata": {},
   "outputs": [
    {
     "name": "stdout",
     "output_type": "stream",
     "text": [
      "\n",
      "键：edward\n",
      "值：ruby\n",
      "\n",
      "键：jen\n",
      "值：python\n",
      "\n",
      "键：phil\n",
      "值：python\n",
      "\n",
      "键：sarah\n",
      "值：c\n"
     ]
    }
   ],
   "source": [
    "#遍历字典\n",
    "favorite_languages = {\n",
    "    \"jen\": \"python\",\n",
    "    \"sarah\":\"c\",\n",
    "    \"edward\":\"ruby\",\n",
    "    \"phil\":\"python\",\n",
    "    }\n",
    "for k,y in sorted(favorite_languages.items()):\n",
    "    print(\"\\n键：\" + k)\n",
    "    print(\"值：\" + y)#为了在输出键与值时能更好区分"
   ]
  },
  {
   "cell_type": "code",
   "execution_count": 30,
   "metadata": {},
   "outputs": [
    {
     "name": "stdout",
     "output_type": "stream",
     "text": [
      "zhezhenshi \n"
     ]
    }
   ],
   "source": [
    "#使用print多行输出的方法\n",
    "print(\"zhezhe\" + \n",
    "      \"nshi \")"
   ]
  },
  {
   "cell_type": "code",
   "execution_count": 51,
   "metadata": {},
   "outputs": [
    {
     "name": "stdout",
     "output_type": "stream",
     "text": [
      "('edward', 'ruby')\n",
      "('jen', 'python')\n",
      "('phil', 'python')\n",
      "('sarah', 'c')\n",
      "{'jen': 'python', 'sarah': 'c', 'edward': 'ruby', 'phil': 'python'}\n"
     ]
    }
   ],
   "source": [
    "#遍历字典中所有的键\n",
    "favorite_languages = {\n",
    "    \"jen\": \"python\",\n",
    "    \"sarah\":\"c\",\n",
    "    \"edward\":\"ruby\",\n",
    "    \"phil\":\"python\",\n",
    "    }\n",
    "for name in sorted(favorite_languages.items()):\n",
    "    print(name)\n",
    "print(favorite_languages)"
   ]
  },
  {
   "cell_type": "code",
   "execution_count": 54,
   "metadata": {},
   "outputs": [
    {
     "name": "stdout",
     "output_type": "stream",
     "text": [
      "('jen', 'python')\n",
      "('sarah', 'c')\n",
      "('edward', 'ruby')\n",
      "('phil', 'python')\n"
     ]
    }
   ],
   "source": [
    "#便利的输出方式\n",
    "favorite_languages = {\n",
    "    \"jen\": \"python\",\n",
    "    \"sarah\":\"c\",\n",
    "    \"edward\":\"ruby\",\n",
    "    \"phil\":\"python\",\n",
    "    }\n",
    "for name in favorite_languages.items():\n",
    "    print(name)"
   ]
  },
  {
   "cell_type": "code",
   "execution_count": 59,
   "metadata": {},
   "outputs": [
    {
     "name": "stdout",
     "output_type": "stream",
     "text": [
      "\t键：jen\n",
      "\n",
      "\t键：sarah\n",
      "\n",
      "\t键：edward\n",
      "\n",
      "\t键：phil\n",
      "\n"
     ]
    }
   ],
   "source": [
    "#遍历字典上所有的键\n",
    "favorite_languages = {\n",
    "    \"jen\": \"python\",\n",
    "    \"sarah\":\"c\",\n",
    "    \"edward\":\"ruby\",\n",
    "    \"phil\":\"python\",\n",
    "    }\n",
    "for name in favorite_languages.keys():# .keys() 可要可不要\n",
    "    print(\"\\t键：\" + name + \"\\n\")"
   ]
  },
  {
   "cell_type": "code",
   "execution_count": 61,
   "metadata": {},
   "outputs": [
    {
     "name": "stdout",
     "output_type": "stream",
     "text": [
      "\t值：phil\n",
      "\n",
      "\t值：phil\n",
      "\n",
      "\t值：phil\n",
      "\n",
      "\t值：phil\n",
      "\n"
     ]
    }
   ],
   "source": [
    "#遍历字典上所有的值\n",
    "favorite_languages = {\n",
    "    \"jen\": \"python\",\n",
    "    \"sarah\":\"c\",\n",
    "    \"edward\":\"ruby\",\n",
    "    \"phil\":\"python\",\n",
    "    }\n",
    "for languages in favorite_languages.values():# .values() 可要可不要\n",
    "    print(\"\\t值：\" + name + \"\\n\")"
   ]
  },
  {
   "cell_type": "code",
   "execution_count": 64,
   "metadata": {},
   "outputs": [
    {
     "name": "stdout",
     "output_type": "stream",
     "text": [
      "\t键：edward\n",
      "\n",
      "\t键：jen\n",
      "\n",
      "\t键：phil\n",
      "\n",
      "\t键：sarah\n",
      "\n"
     ]
    }
   ],
   "source": [
    "#按照顺序遍历字典上所有的键\n",
    "favorite_languages = {\n",
    "    \"jen\": \"python\",\n",
    "    \"sarah\":\"c\",\n",
    "    \"edward\":\"ruby\",\n",
    "    \"phil\":\"python\",\n",
    "    }\n",
    "for name in sorted(favorite_languages.keys()):\n",
    "    print(\"\\t键：\" + name + \"\\n\")"
   ]
  },
  {
   "cell_type": "markdown",
   "metadata": {},
   "source": [
    "# 嵌套"
   ]
  },
  {
   "cell_type": "code",
   "execution_count": 84,
   "metadata": {},
   "outputs": [
    {
     "name": "stdout",
     "output_type": "stream",
     "text": [
      "<class 'list'>\n",
      "{'color': 'green', 'points': 5}\n",
      "\n",
      "{'color': 'yellow', 'points': 10}\n",
      "\n",
      "{'color': 'red', 'points': 15}\n",
      "\n"
     ]
    }
   ],
   "source": [
    "#列表中嵌入字典\n",
    "alien_0 = {\"color\":\"green\",\"points\": 5 }\n",
    "alien_1 = {\"color\":\"yellow\",\"points\": 10 }\n",
    "alien_2 = {\"color\":\"red\",\"points\": 15 }\n",
    "\n",
    "alien = [alien_0,alien_1,alien_2]\n",
    "print(type(alien))\n",
    "for a in alien[:]:\n",
    "    print(str(a) + \"\\n\")"
   ]
  },
  {
   "cell_type": "code",
   "execution_count": 139,
   "metadata": {},
   "outputs": [
    {
     "name": "stdout",
     "output_type": "stream",
     "text": [
      "{'color': 'yellow', 'points': '20'}\n",
      "{'color': 'yellow', 'points': '20'}\n",
      "{'color': 'yellow', 'points': '20'}\n",
      "{'color': 'green', 'points': 5}\n",
      "{'color': 'green', 'points': 5}\n",
      "一共创建了机器人 30 个。\n"
     ]
    }
   ],
   "source": [
    "#创建30个外星人\n",
    "#修改前三个机器人的颜色\n",
    "#输出前五个外星人\n",
    "#输出一共创建了多少个外星人\n",
    "\n",
    "alien = []\n",
    "for a in range(1,31):\n",
    "    alien_0 = {\"color\":\"green\",\"points\":5}\n",
    "    alien.append(alien_0)\n",
    "    \n",
    "for alien_0 in alien[:3]:\n",
    "    if alien_0[\"color\"] == \"green\":\n",
    "        alien_0[\"color\"] = \"yellow\"\n",
    "        alien_0[\"points\"] = \"20\"\n",
    "\n",
    "    \n",
    "for alie in alien[0:5]:\n",
    "    print(alie)\n",
    "    \n",
    "print(\"一共创建了机器人 {0} 个。\".format(str(len(alien))))\n"
   ]
  },
  {
   "cell_type": "code",
   "execution_count": null,
   "metadata": {},
   "outputs": [],
   "source": [
    "#字典内嵌入字典\n",
    "#嵌入的字典名字当作外围字典的键，嵌入字典包含的内容当作外围字典的值\n"
   ]
  },
  {
   "cell_type": "code",
   "execution_count": 1,
   "metadata": {},
   "outputs": [
    {
     "name": "stdout",
     "output_type": "stream",
     "text": [
      "\n",
      "name:yangzhengxing\n",
      "greenasd\n",
      "\n",
      "name:yixinchang\n",
      "greenasd\n"
     ]
    }
   ],
   "source": [
    "ns = {\n",
    "    \"yangzhengxing\":{\n",
    "        \"color\":\"green\",\n",
    "        \"points\":\"asd\",\n",
    "        },\n",
    "    \"yixinchang\":{\n",
    "         \"color\":\"green\",\n",
    "        \"points\":\"asd\",\n",
    "        }\n",
    "    }\n",
    "for name,information in ns.items():\n",
    "    print(\"\\nname:\" + name)\n",
    "    all_color = information[\"color\"] + information[\"points\"]\n",
    "    print(all_color)"
   ]
  },
  {
   "cell_type": "code",
   "execution_count": 12,
   "metadata": {},
   "outputs": [
    {
     "name": "stdout",
     "output_type": "stream",
     "text": [
      "2\n",
      "1\n",
      "None\n",
      "100\n"
     ]
    }
   ],
   "source": [
    "# get: 根据键来索引值，如果字典内没有相应的键，则返回默认值\n",
    "a = {\"one\":1, \"two\":2, \"three\":3}\n",
    "print(a.get(\"two\"))\n",
    "print(a.get(\"one\",100))# 100是默认值\n",
    "print(a.get(\"one11\"))# 如果没有输入默认值，则返回None\n",
    "print(a.get(\"one11\",100))# 当索引的键在字典内不存在时，则返回默认值"
   ]
  },
  {
   "cell_type": "code",
   "execution_count": 19,
   "metadata": {
    "scrolled": true
   },
   "outputs": [
    {
     "name": "stdout",
     "output_type": "stream",
     "text": [
      "{'one': None, 'two': None, 'three': None}\n"
     ]
    }
   ],
   "source": [
    "# fromkeys： 生成一个序列组成的键，以及单一的值所组成的字典\n",
    "w = [\"one\",\"two\",\"three\"]\n",
    "d = dict.fromkeys(w)# 不给予值，默认值为None\n",
    "print(d)"
   ]
  }
 ],
 "metadata": {
  "kernelspec": {
   "display_name": "Python 3",
   "language": "python",
   "name": "python3"
  },
  "language_info": {
   "codemirror_mode": {
    "name": "ipython",
    "version": 3
   },
   "file_extension": ".py",
   "mimetype": "text/x-python",
   "name": "python",
   "nbconvert_exporter": "python",
   "pygments_lexer": "ipython3",
   "version": "3.6.5"
  }
 },
 "nbformat": 4,
 "nbformat_minor": 2
}
