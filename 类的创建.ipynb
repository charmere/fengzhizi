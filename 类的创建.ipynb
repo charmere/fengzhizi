{
 "cells": [
  {
   "cell_type": "markdown",
   "metadata": {},
   "source": [
    "# 类的创建\n",
    " - 创建一个学生类\n",
    " - 包含一些属性（就是变量）\n",
    " - 包含一些功能（就是函数）\n",
    " \n",
    "         "
   ]
  },
  {
   "cell_type": "code",
   "execution_count": 66,
   "metadata": {},
   "outputs": [],
   "source": [
    "class shili():\n",
    "    pass"
   ]
  },
  {
   "cell_type": "code",
   "execution_count": 120,
   "metadata": {
    "scrolled": true
   },
   "outputs": [
    {
     "name": "stdout",
     "output_type": "stream",
     "text": [
      "None\n",
      "{'__module__': '__main__', 'name': None, 'age': 19, 'course': 'Python', 'doHomework': <function Student.doHomework at 0x000002966E1701E0>, '__dict__': <attribute '__dict__' of 'Student' objects>, '__weakref__': <attribute '__weakref__' of 'Student' objects>, '__doc__': None}\n"
     ]
    }
   ],
   "source": [
    "\n",
    "class Student():\n",
    "    name = None\n",
    "    age = 19\n",
    "    course = \"Python\"\n",
    "    \n",
    "    def doHomework(self):\n",
    "        print(\"我正在写作业。\")\n",
    "        \n",
    "        return None\n",
    "    \n",
    "a = Student()\n",
    "print(a.name)\n",
    "print(Student.__dict__)"
   ]
  },
  {
   "cell_type": "markdown",
   "metadata": {},
   "source": [
    "# ---------------------------------------------"
   ]
  },
  {
   "cell_type": "markdown",
   "metadata": {},
   "source": [
    "# 创建一个类，模拟小狗\n"
   ]
  },
  {
   "cell_type": "markdown",
   "metadata": {},
   "source": [
    "## 应该注意的几点\n",
    " - self.obj = obj 是为了使变量在类中的方法都可以使用\n",
    " - 方法如果有用到变量，括号中就必须有self\n",
    " - 调用；类：\n",
    "             \n",
    "                 ojb = 类名（）\n",
    " - 访问属性：\n",
    " \n",
    "                 obj.name\n",
    "             \n",
    " - 访问方法：\n",
    " \n",
    "                 obj.函数名（）"
   ]
  },
  {
   "cell_type": "code",
   "execution_count": 119,
   "metadata": {},
   "outputs": [
    {
     "name": "stdout",
     "output_type": "stream",
     "text": [
      "micai\n",
      "5\n",
      "Micaiis now sitting\n",
      "Micai rooled over!\n",
      "None\n",
      "我的小狗叫 micai。他已经5岁了\n"
     ]
    }
   ],
   "source": [
    "class Dog():\n",
    "    \"\"\"\n",
    "    一次模拟小狗的简单尝试\n",
    "    \"\"\"\n",
    "    def __init__(self,name,age):\n",
    "        self.name = name\n",
    "        self.age = age\n",
    "        \n",
    "    def sit(self):\n",
    "        \"\"\"模拟小狗蹲下的动作\"\"\"\n",
    "        print(self.name.title() + \"is now sitting\")\n",
    "        \n",
    "    def rool_over(self):\n",
    "        \"\"\"模拟小狗打滚的动作\"\"\"\n",
    "        print(self.name.title() + \" rooled over!\")\n",
    "        \n",
    "# 调用函数\n",
    "my_dog = Dog(\"micai\",5)\n",
    "print(my_dog.name)\n",
    "print(my_dog.age)\n",
    "my_dog.sit()\n",
    "print(my_dog.rool_over())\n",
    "print(\"我的小狗叫 \" + my_dog.name + \"。他已经{0}岁了\".format(my_dog.age))"
   ]
  },
  {
   "cell_type": "markdown",
   "metadata": {},
   "source": [
    "# -------------------------------------------------"
   ]
  },
  {
   "cell_type": "markdown",
   "metadata": {},
   "source": [
    "# 创建一个Restaurant的类\n",
    " - 包含两个变量 restaurant_name cuisine_type\n",
    " - 包含一个方法 describle_restaurant()打印属性的信息\n",
    " - open_restaurant（）支出餐馆正在营业\n",
    " - 创建一个restaurant示例。打印出两项属性以及嗲用前两个方法"
   ]
  },
  {
   "cell_type": "code",
   "execution_count": 118,
   "metadata": {},
   "outputs": [
    {
     "name": "stdout",
     "output_type": "stream",
     "text": [
      "the home of love\n",
      "520\n",
      "餐馆的名字是the home of love\n",
      "餐馆正在营业\n"
     ]
    }
   ],
   "source": [
    "class Restaurant():\n",
    "    \"\"\"\n",
    "    创建一个打印餐馆名字以及菜的类型的，并指出正在营业的类\n",
    "    \"\"\"\n",
    "    def __init__(self,restaurant_name,cuisine_type):\n",
    "        self.restaurant_name = restaurant_name\n",
    "        self.cuisine_type = cuisine_type\n",
    "        \n",
    "    def describle_restaurant(self):\n",
    "        print(\"餐馆的名字是\" + self.restaurant_name)\n",
    "        return None\n",
    "    \n",
    "    def open_restaurant(self):#self可以要可以不要\n",
    "        print(\"餐馆正在营业\")\n",
    "        \n",
    "my_restaurant = Restaurant(\"the home of love\",520)\n",
    "print(my_restaurant.restaurant_name)\n",
    "print(my_restaurant.cuisine_type)\n",
    "my_restaurant.describle_restaurant()\n",
    "my_restaurant.open_restaurant()"
   ]
  },
  {
   "cell_type": "markdown",
   "metadata": {},
   "source": [
    "# ----------------------------------------------------------------"
   ]
  },
  {
   "cell_type": "markdown",
   "metadata": {},
   "source": [
    "# Car类\n",
    " - 一次模拟汽车的简单尝试\n",
    " - 属性：make model year\n",
    " - 对汽车进行描述，用到三个属性\n",
    " "
   ]
  },
  {
   "cell_type": "code",
   "execution_count": 116,
   "metadata": {},
   "outputs": [
    {
     "name": "stdout",
     "output_type": "stream",
     "text": [
      "2016\n",
      "Audi\n",
      "A4\n",
      "汽车是2016产的。品牌是Audi。车型是A4\n",
      "2016 Audi A4\n"
     ]
    }
   ],
   "source": [
    "class Car():\n",
    "    \"\"\"\n",
    "    一次模拟汽车的简单尝试\n",
    "    \"\"\"\n",
    "    \n",
    "    def __init__(self,make,model,year):\n",
    "        self.make = make\n",
    "        self.model = model\n",
    "        self.year = year\n",
    "    \n",
    "    \"\"\"描述汽车属性\"\"\"\n",
    "    def describle(self):\n",
    "        print(\"汽车是\" + str(self.year) + \"产的。品牌是\" + self.make + \"。车型是\" + self.model)\n",
    "        long_name = str(self.year) + \" \" +  self.make + \" \" + self.model\n",
    "        return long_name\n",
    "    \n",
    "my_new_car = Car(\"Audi\",\"A4\",2016)\n",
    "print(my_new_car.year)\n",
    "print(my_new_car.make)\n",
    "print(my_new_car.model)\n",
    "a = my_new_car.describle()\n",
    "print(a)"
   ]
  },
  {
   "cell_type": "markdown",
   "metadata": {},
   "source": [
    "# ----------------------------------------------"
   ]
  },
  {
   "cell_type": "markdown",
   "metadata": {},
   "source": [
    "# 给属性指定默认值\n",
    " - 如果在__init__ 中指定了一个变量的默认值，就不需要包含为他提供初始值的形参"
   ]
  },
  {
   "cell_type": "code",
   "execution_count": 123,
   "metadata": {},
   "outputs": [
    {
     "name": "stdout",
     "output_type": "stream",
     "text": [
      "2016\n",
      "Audi\n",
      "A4\n",
      "0\n",
      "汽车是2016产的。品牌是Audi。车型是A4\n",
      "2016 Audi A4\n"
     ]
    }
   ],
   "source": [
    "class Car():\n",
    "    \"\"\"\n",
    "    一次模拟汽车的简单尝试\n",
    "    \"\"\"\n",
    "    \n",
    "    def __init__(self,make,model,year):\n",
    "        self.make = make\n",
    "        self.model = model\n",
    "        self.year = year\n",
    "        self.long = 0   #默认long为0\n",
    "    \n",
    "    \"\"\"描述汽车属性\"\"\"\n",
    "    def describle(self):\n",
    "        print(\"汽车是\" + str(self.year) + \"产的。品牌是\" + self.make + \"。车型是\" + self.model)\n",
    "        long_name = str(self.year) + \" \" +  self.make + \" \" + self.model\n",
    "        return long_name\n",
    "    \n",
    "my_new_car = Car(\"Audi\",\"A4\",2016)\n",
    "print(my_new_car.year)\n",
    "print(my_new_car.make)\n",
    "print(my_new_car.model)\n",
    "print(my_new_car.long)\n",
    "a = my_new_car.describle()\n",
    "print(a)\n"
   ]
  },
  {
   "cell_type": "markdown",
   "metadata": {},
   "source": [
    "#  "
   ]
  },
  {
   "cell_type": "markdown",
   "metadata": {},
   "source": [
    "# 修改默认值\n",
    "## 第一种方法\n",
    " - 直接在调用时修改，类中也会修改"
   ]
  },
  {
   "cell_type": "code",
   "execution_count": 59,
   "metadata": {},
   "outputs": [
    {
     "data": {
      "text/plain": [
       "23"
      ]
     },
     "execution_count": 59,
     "metadata": {},
     "output_type": "execute_result"
    }
   ],
   "source": [
    "class Car():\n",
    "    \"\"\"\n",
    "    一次模拟汽车的简单尝试\n",
    "    \"\"\"\n",
    "    \n",
    "    def __init__(self,make,model,year):\n",
    "        self.make = make\n",
    "        self.model = model\n",
    "        self.year = year\n",
    "        self.long = 0\n",
    "    \n",
    "    \"\"\"描述汽车属性\"\"\"\n",
    "    def describle(self):\n",
    "        print(\"汽车是\" + str(self.year) + \"产的。品牌是\" + self.make + \"。车型是\" + self.model)\n",
    "        long_name = str(self.year) + \" \" +  self.make + \" \" + self.model\n",
    "        return long_name\n",
    "    \n",
    "car = Car(\"Audi\",\"A4\",2048)\n",
    "car.long\n",
    "car.long = 23\n",
    "car.long\n"
   ]
  },
  {
   "cell_type": "markdown",
   "metadata": {},
   "source": [
    "## 第二种\n",
    " - 通过在类中创建一个方法修改默认值"
   ]
  },
  {
   "cell_type": "code",
   "execution_count": 68,
   "metadata": {},
   "outputs": [
    {
     "name": "stdout",
     "output_type": "stream",
     "text": [
      "50\n"
     ]
    }
   ],
   "source": [
    "class Car():\n",
    "    \"\"\"\n",
    "    一次模拟汽车的简单尝试\n",
    "    \"\"\"\n",
    "    \n",
    "    def __init__(self,make,model,year):\n",
    "        self.make = make\n",
    "        self.model = model\n",
    "        self.year = year\n",
    "        self.long = 0\n",
    "    \n",
    "    \"\"\"描述汽车属性\"\"\"\n",
    "    def describle(self):\n",
    "        print(\"汽车是\" + str(self.year) + \"产的。品牌是\" + self.make + \"。车型是\" + self.model)\n",
    "        long_name = str(self.year) + \" \" +  self.make + \" \" + self.model\n",
    "        return long_name\n",
    "    \n",
    "    \"\"\"修改默认值\"\"\"\n",
    "    def update_long(self,change):\n",
    "        self.long = change\n",
    "        \n",
    "car = Car(\"Audi\",\"A4\",2048)\n",
    "#调用函数修改默认值\n",
    "car.update_long(50)\n",
    "car.long"
   ]
  },
  {
   "cell_type": "markdown",
   "metadata": {},
   "source": [
    "## 第三种\n",
    " - 对属性值进行递增"
   ]
  },
  {
   "cell_type": "code",
   "execution_count": 69,
   "metadata": {},
   "outputs": [
    {
     "name": "stdout",
     "output_type": "stream",
     "text": [
      "100\n",
      "10100\n"
     ]
    }
   ],
   "source": [
    "class Car():\n",
    "    \"\"\"\n",
    "    一次模拟汽车的简单尝试\n",
    "    \"\"\"\n",
    "    \n",
    "    def __init__(self,make,model,year):\n",
    "        self.make = make\n",
    "        self.model = model\n",
    "        self.year = year\n",
    "        self.long = 0\n",
    "    \n",
    "    \"\"\"描述汽车属性\"\"\"\n",
    "    def describle(self):\n",
    "        print(\"汽车是\" + str(self.year) + \"产的。品牌是\" + self.make + \"。车型是\" + self.model)\n",
    "        long_name = str(self.year) + \" \" +  self.make + \" \" + self.model\n",
    "        return long_name\n",
    "    \"\"\"修改默认值\"\"\"\n",
    "    def update_long(self,change):\n",
    "        self.long += change\n",
    "        \n",
    "car = Car(\"Audi\",\"A4\",2048)\n",
    "car.update_long(100)\n",
    "print(car.long)\n",
    "car.update_long(10000)\n",
    "print(car.long)"
   ]
  },
  {
   "cell_type": "code",
   "execution_count": 115,
   "metadata": {},
   "outputs": [
    {
     "name": "stdout",
     "output_type": "stream",
     "text": [
      "100\n",
      "10100\n"
     ]
    }
   ],
   "source": [
    "class Car():\n",
    "    \"\"\"\n",
    "    一次模拟汽车的简单尝试\n",
    "    \"\"\"\n",
    "    \n",
    "    def __init__(self,make,model,year):\n",
    "        self.make = make\n",
    "        self.model = model\n",
    "        self.year = year\n",
    "        self.long = 0\n",
    "\n",
    "    \"\"\"修改默认值\"\"\"\n",
    "    def update_long(self,change):\n",
    "        self.long += change\n",
    "        \n",
    "car = Car(\"Audi\",\"A4\",2048)\n",
    "car.update_long(100)#增加100\n",
    "print(car.long)#输出\n",
    "car.update_long(10000)#增加10000\n",
    "print(car.long)                                                                                                                                                               "
   ]
  },
  {
   "cell_type": "markdown",
   "metadata": {},
   "source": [
    "# ---------------------------------------------------------"
   ]
  },
  {
   "cell_type": "markdown",
   "metadata": {},
   "source": [
    "# 子类继承父类\n",
    " - 继承原则：父类代码需要在子类代码前\n",
    " - 语法：calss 子类名(父类名):\n",
    "             def __init__(self,父类属性):    \"是为了初始化父类属性\"\n",
    "                 \n",
    "                 \"调用父类的方法__init__，使子类包含父类的所有属性\"\n",
    "                 super().__init__(父类属性)\n",
    "                 \"缩进\""
   ]
  },
  {
   "cell_type": "code",
   "execution_count": 92,
   "metadata": {},
   "outputs": [
    {
     "name": "stdout",
     "output_type": "stream",
     "text": [
      "tesia\n",
      "model s\n",
      "2018\n",
      "汽车是2018产的。品牌是tesia。车型是model s\n",
      "This car has a70-KWH battrey.\n"
     ]
    }
   ],
   "source": [
    "# 父类\n",
    "class Car():\n",
    "    \"\"\"\n",
    "    一次模拟汽车的简单尝试\n",
    "    \"\"\"\n",
    "    \n",
    "    def __init__(self,make,model,year):\n",
    "        self.make = make\n",
    "        self.model = model\n",
    "        self.year = year\n",
    "        \"\"\"默认值\"\"\"\n",
    "        self.long = 0   \n",
    "        \n",
    "    \n",
    "    \"\"\"描述汽车属性\"\"\"\n",
    "    def describle(self):\n",
    "        print(\"汽车是\" + str(self.year) + \"产的。品牌是\" + self.make + \"。车型是\" + self.model)\n",
    "        long_name = str(self.year) + \" \" +  self.make + \" \" + self.model\n",
    "        return long_name\n",
    "\n",
    "    \n",
    "    \n",
    "# 子类\n",
    "class Electric(Car):\n",
    "    \"\"\"\n",
    "    创建一个子类，继承了Car的所有属性以及方法，并含有自己特定的属性和方法\n",
    "    \"\"\"\n",
    "    def __init__(self,make,model,year):\n",
    "        \"\"\"初始化父类的属性\"\"\"\n",
    "        \n",
    "        \"\"\"此时就不需要self以及冒号\"\"\"\n",
    "        super().__init__(make,model,year)\n",
    "        \"\"\"子类特有的属性，父类不可以使用\"\"\"\n",
    "        self.battery_size = 70\n",
    "        \n",
    "    def describle_battery(self):\n",
    "        \"\"\"打印一条描述电瓶容量的消息。\"\"\"\n",
    "        print(\"This car has a\" + str(self.battery_size) + \"-KWH battrey.\")\n",
    "        \n",
    "\"\"\"子类的实例化\"\"\"\n",
    "my_car = Electric(\"tesia\",\"model s\",2018)\n",
    "print(my_car.make)\n",
    "print(my_car.model)\n",
    "print(my_car.year)\n",
    "\"\"\"父类函数的调用\"\"\"\n",
    "my_car.describle()\n",
    "\"\"\"子类函数的调用\"\"\"\n",
    "my_car.describle_battery()"
   ]
  },
  {
   "cell_type": "markdown",
   "metadata": {},
   "source": [
    "## 重写父类的方法\n",
    " - 只需要在子类写一个与父类方法名字相同的方法"
   ]
  },
  {
   "cell_type": "code",
   "execution_count": 91,
   "metadata": {},
   "outputs": [
    {
     "name": "stdout",
     "output_type": "stream",
     "text": [
      "汽车出厂时间是2020。\n"
     ]
    }
   ],
   "source": [
    "### 父类\n",
    "class Car():\n",
    "    \"\"\"\n",
    "    一次模拟汽车的简单尝试\n",
    "    \"\"\"\n",
    "    \n",
    "    def __init__(self,make,model,year):\n",
    "        self.make = make\n",
    "        self.model = model\n",
    "        self.year = year\n",
    "        \"\"\"默认值\"\"\"\n",
    "        self.long = 0   \n",
    "        \n",
    "    \n",
    "    \"\"\"描述汽车属性\"\"\"\n",
    "    def describle(self):\n",
    "        print(\"汽车是\" + str(self.year) + \"产的。品牌是\" + self.make + \"。车型是\" + self.model)\n",
    "        long_name = str(self.year) + \" \" +  self.make + \" \" + self.model\n",
    "        return long_name\n",
    "    \n",
    "    def change_year(self):\n",
    "        print(\"汽车出厂时间是{}。\".format(self.year))\n",
    "\n",
    "\"\"\"----------------------------------------我是分割线-------------------------------------------------\"\"\"    \n",
    "    \n",
    "# 子类\n",
    "class Electric(Car):\n",
    "    \"\"\"\n",
    "    创建一个子类，继承了Car的所有属性以及方法，并含有自己特定的属性和方法\n",
    "    \"\"\"\n",
    "    def __init__(self,make,model,year):\n",
    "        \"\"\"初始化父类的属性\"\"\"\n",
    "        \n",
    "        \"\"\"此时就不需要self以及冒号\"\"\"\n",
    "        super().__init__(make,model,year)\n",
    "        \"\"\"子类特有的属性，父类不可以使用\"\"\"\n",
    "        self.battery_size = 70\n",
    "        \n",
    "    def describle_battery(self):\n",
    "        \"\"\"打印一条描述电瓶容量的消息。\"\"\"\n",
    "        print(\"This car has a\" + str(self.battery_size) + \"-KWH battrey.\")\n",
    "    \n",
    "    \"\"\"重写change_year\"\"\"\n",
    "    def change_year(self):\n",
    "        print(\"汽车出厂时间是{}。\".format(self.year+1))        \n",
    "    \n",
    "my_car = Electric(\"tesia\",\"model s\",2019)\n",
    "\n",
    "\"\"\"调用修改后的change_year\"\"\"\n",
    "my_car.change_year()\n"
   ]
  },
  {
   "cell_type": "markdown",
   "metadata": {},
   "source": [
    "### 给子类定义属性和方法\n",
    " - 属性需要定义在super().__init__()下\n",
    " - 方法定义与父类相同"
   ]
  },
  {
   "cell_type": "markdown",
   "metadata": {},
   "source": [
    "# --------------------------------------------------------        "
   ]
  },
  {
   "cell_type": "markdown",
   "metadata": {},
   "source": [
    "# 例题\n",
    " - 编写一个名为IceCreamStand的类继承Restaurant类\n",
    " - 添加一个属性：flavors  用于存储由各种口味冰淇淋组成的列表\n",
    " - 编写一个方法：显示所有的冰淇淋\n",
    " - 创建一个IceCreamStand实例，并调用楼上方法"
   ]
  },
  {
   "cell_type": "code",
   "execution_count": 99,
   "metadata": {},
   "outputs": [
    {
     "name": "stdout",
     "output_type": "stream",
     "text": [
      "the home of love\n",
      "520\n",
      "0\n",
      "1\n",
      "2\n",
      "3\n",
      "4\n",
      "5\n",
      "6\n",
      "7\n",
      "8\n",
      "9\n"
     ]
    }
   ],
   "source": [
    "class Restaurant():\n",
    "    \"\"\"\n",
    "    创建一个打印餐馆名字以及菜的类型的，并指出正在营业的类\n",
    "    \"\"\"\n",
    "    def __init__(self,restaurant_name,cuisine_type):\n",
    "        self.restaurant_name = restaurant_name\n",
    "        self.cuisine_type = cuisine_type\n",
    "        \n",
    "    def describle_restaurant(self):\n",
    "        print(\"餐馆的名字是\" + self.restaurant_name)\n",
    "        return None\n",
    "    \n",
    "    def open_restaurant(self):#self可以要可以不要\n",
    "        print(\"餐馆正在营业\")\n",
    "        \n",
    "\"\"\"继承\"\"\"\n",
    "class IceCreamStand(Restaurant):\n",
    "    \"\"\"创建一个冰淇淋的类继承Restaurant类\"\"\"\n",
    "    \"\"\"下面这行代码初始化父类的值\"\"\"\n",
    "    def __init__(self,restaurant_name,cuisine_type):\n",
    "        \"\"\"下面这行代码调用父类的所有属性\"\"\"\n",
    "        super().__init__(restaurant_name,cuisine_type)\n",
    "        self.flavors = list()\n",
    "        \n",
    "    \"\"\"显示所有冰淇淋的方法\"\"\"\n",
    "    def all_ice(self):\n",
    "        for flavor in self.flavors:\n",
    "            print(flavor)\n",
    "\n",
    "\n",
    "\"\"\"创建一个实例，调用子类\"\"\"\n",
    "ice = IceCreamStand(\"the home of love\",520)\n",
    "print(ice.restaurant_name)\n",
    "print(ice.cuisine_type)\n",
    "ice.flavors = [i for i in range(10)]\n",
    "ice.all_ice()\n"
   ]
  },
  {
   "cell_type": "markdown",
   "metadata": {},
   "source": [
    "# ----------------------------------------------"
   ]
  },
  {
   "cell_type": "markdown",
   "metadata": {},
   "source": [
    "# 类的嵌套"
   ]
  },
  {
   "cell_type": "code",
   "execution_count": 121,
   "metadata": {},
   "outputs": [
    {
     "name": "stdout",
     "output_type": "stream",
     "text": [
      "餐馆的名字是love\n"
     ]
    }
   ],
   "source": [
    "class Restaurant():\n",
    "    \"\"\"\n",
    "    创建一个打印餐馆名字以及菜的类型的，并指出正在营业的类\n",
    "    \"\"\"\n",
    "    def __init__(self,restaurant_name,cuisine_type):\n",
    "        self.restaurant_name = restaurant_name\n",
    "        self.cuisine_type = cuisine_type\n",
    "        \n",
    "    def describle_restaurant(self):\n",
    "        print(\"餐馆的名字是\" + self.restaurant_name)\n",
    "        return None\n",
    "    \n",
    "    def open_restaurant(self):#self可以要可以不要\n",
    "        print(\"餐馆正在营业\")\n",
    "        \n",
    "        \n",
    "class Car():\n",
    "    \"\"\"\n",
    "    一次模拟汽车的简单尝试\n",
    "    \"\"\"\n",
    "    \n",
    "    def __init__(self,make,model,year):\n",
    "        self.make = make\n",
    "        self.model = model\n",
    "        self.year = year\n",
    "        \"\"\"默认值\"\"\"\n",
    "        self.restaurant = Restaurant(\"love\",520)   \n",
    "        \n",
    "    \n",
    "    \"\"\"描述汽车属性\"\"\"\n",
    "    def describle(self):\n",
    "        print(\"汽车是\" + str(self.year) + \"产的。品牌是\" + self.make + \"。车型是\" + self.model)\n",
    "        long_name = str(self.year) + \" \" +  self.make + \" \" + self.model\n",
    "        return long_name\n",
    "    \n",
    "    def change_year(self):\n",
    "        print(\"汽车出厂时间是{}。\".format(self.year))\n",
    "\n",
    "        \n",
    "car = Car(\"tesia\",\"model s\",2019)\n",
    "car.restaurant.restaurant_name\n",
    "car.restaurant.describle_restaurant()"
   ]
  },
  {
   "cell_type": "markdown",
   "metadata": {},
   "source": [
    "# -------------------------------------------------------------------"
   ]
  },
  {
   "cell_type": "markdown",
   "metadata": {},
   "source": [
    "# 导入类\n",
    " - 导入单个类：from 模块名 import 类名\n",
    " - 导入多个类：from 模块名 impory 类名，类名，类名.....\n",
    " - 导入整个模块：import 模块名\n",
    " - 导入模块中所有的类：from 模块名 import *\n",
    " - 在一个模块中导入另一个模块：相当于正常导入类，与上述情况一样"
   ]
  },
  {
   "cell_type": "code",
   "execution_count": 125,
   "metadata": {},
   "outputs": [
    {
     "name": "stdout",
     "output_type": "stream",
     "text": [
      "汽车出厂时间是2019。\n"
     ]
    }
   ],
   "source": [
    "class Car():\n",
    "    \"\"\"\n",
    "    一次模拟汽车的简单尝试\n",
    "    \"\"\"\n",
    "    \n",
    "    def __init__(self,make,model,year):\n",
    "        self.__make = make\n",
    "        self.model = model\n",
    "        self.year = year\n",
    "        \"\"\"默认值\"\"\"\n",
    "        self.long = 0   \n",
    "        \n",
    "    \n",
    "    \"\"\"描述汽车属性\"\"\"\n",
    "    def describle(self):\n",
    "        print(\"汽车是\" + str(self.year) + \"产的。品牌是\" + self.__make + \"。车型是\" + self.model)\n",
    "        long_name = str(self.year) + \" \" +  self.__make + \" \" + self.model\n",
    "        return long_name\n",
    "    \n",
    "    def change_year(self):\n",
    "        print(\"汽车出厂时间是{}。\".format(self.year))\n",
    "\n",
    "car = Car(\"tesia\",\"model s\",2019)\n",
    "car.__make = 100\n",
    "car.__make\n",
    "a = Car(\"tesia\",\"model s\",2019)\n",
    "a.change_year()"
   ]
  }
 ],
 "metadata": {
  "kernelspec": {
   "display_name": "Python 3",
   "language": "python",
   "name": "python3"
  },
  "language_info": {
   "codemirror_mode": {
    "name": "ipython",
    "version": 3
   },
   "file_extension": ".py",
   "mimetype": "text/x-python",
   "name": "python",
   "nbconvert_exporter": "python",
   "pygments_lexer": "ipython3",
   "version": "3.6.5"
  }
 },
 "nbformat": 4,
 "nbformat_minor": 2
}
